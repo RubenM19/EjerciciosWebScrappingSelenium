{
 "cells": [
  {
   "cell_type": "markdown",
   "metadata": {},
   "source": [
    "### Trabajo Final\n",
    "Nombres : Augusto \n",
    "Apellidos: Rojas Marin\n",
    "DNI: 12345678\n",
    "Web: \"https://forms.gle/ZxeZ9az3D51JDVqUA\"\n",
    "- Pasos:\n",
    "    - Usando selenium\n",
    "    - Buscar los elementos(por TAG) //div con atributos especificos y enviar sus nombres y apellidos\n",
    "    - Buscar el boton que contenga la palabra Enviar / Send\n",
    "    - Realizar este proceso más de 30 veces en un loop\n",
    "- Entregable: \n",
    "    - Notebook de la solución enviado al correo : k.caballerounmsm@gmail.com\n",
    "\n",
    "Fecha límite de entrega: 10-02-2024 23:59"
   ]
  },
  {
   "cell_type": "code",
   "execution_count": 1,
   "metadata": {},
   "outputs": [],
   "source": [
    "#LIBRERÍAS NECESARIAS\n",
    "import selenium\n",
    "from selenium.webdriver.common.alert import Alert\n",
    "import time\n",
    "import random\n",
    "from selenium import webdriver\n",
    "from selenium.webdriver.support.ui import WebDriverWait\n",
    "from selenium.webdriver.support import expected_conditions as EC\n",
    "from selenium.webdriver.chrome.service import Service\n",
    "from selenium.webdriver.common.by import By"
   ]
  },
  {
   "cell_type": "code",
   "execution_count": 3,
   "metadata": {},
   "outputs": [],
   "source": [
    "#INICIALIZAMOS VARIABLES (URL Y PATH DEL DRIVER)\n",
    "url = 'https://forms.gle/ZxeZ9az3D51JDVqUA'\n",
    "driver_path = r'C:\\Users\\ruben\\Desktop\\SELENIUM\\msedgedriver.exe'"
   ]
  },
  {
   "cell_type": "code",
   "execution_count": 4,
   "metadata": {},
   "outputs": [],
   "source": [
    "option = webdriver.EdgeOptions()\n",
    "#INGRESAMOS EN MODO INCÓGNITO\n",
    "option.add_argument(\"-incognito\") "
   ]
  },
  {
   "cell_type": "code",
   "execution_count": 5,
   "metadata": {},
   "outputs": [],
   "source": [
    "service = Service(driver_path)\n",
    "driver = webdriver.Edge(service=service)\n",
    "driver.get(url)"
   ]
  },
  {
   "cell_type": "code",
   "execution_count": 7,
   "metadata": {},
   "outputs": [],
   "source": [
    "def fill_forms(ans1, ans2, range_selection):\n",
    "    question1 = None\n",
    "    question2 = None\n",
    "\n",
    "    questionGroup = driver.find_elements(By.CLASS_NAME, 'Qr7Oae')\n",
    "\n",
    "    if questionGroup:\n",
    "        # Assuming 'whsOnd.zHQkBf' applies to both elements:\n",
    "        if len(questionGroup) >= 2:\n",
    "            question1 = questionGroup[0].find_elements(By.CLASS_NAME, 'whsOnd.zHQkBf')[0]\n",
    "            question2 = questionGroup[1].find_elements(By.CLASS_NAME, 'whsOnd.zHQkBf')[0]\n",
    "        else:\n",
    "            print(\"Not enough question elements found\")\n",
    "            return  # Or handle as needed\n",
    "\n",
    "        if question1:\n",
    "            question1.send_keys(ans1)\n",
    "        if question2:\n",
    "            question2.send_keys(ans2)\n",
    "\n",
    "        time.sleep(1)\n",
    "\n",
    "        buttons = driver.find_elements(By.CLASS_NAME, 'AB7Lab.Id5V1')\n",
    "        buttons[range_selection].click()\n",
    "\n",
    "        time.sleep(1)\n",
    "\n",
    "        submit = driver.find_elements(By.CLASS_NAME, 'l4V7wb.Fxmcue')[1]\n",
    "        submit.click()\n",
    "        time.sleep(1)\n",
    "        \n",
    "        \n",
    "ans1 = \"Augusto\"\n",
    "ans2 = 'Rojas'\n",
    "range_selection = random.randint(1,3)\n",
    "count = 1\n",
    "\n",
    "while (count <= 5):\n",
    "    ange_selection = random.randint(1,3)\n",
    "    fill_forms(ans1, ans2, range_selection)\n",
    "    count = count + 1\n",
    "    driver.get(url)\n",
    "driver.quit()\n"
   ]
  }
 ],
 "metadata": {
  "kernelspec": {
   "display_name": "base",
   "language": "python",
   "name": "python3"
  },
  "language_info": {
   "codemirror_mode": {
    "name": "ipython",
    "version": 3
   },
   "file_extension": ".py",
   "mimetype": "text/x-python",
   "name": "python",
   "nbconvert_exporter": "python",
   "pygments_lexer": "ipython3",
   "version": "3.10.0"
  }
 },
 "nbformat": 4,
 "nbformat_minor": 2
}
