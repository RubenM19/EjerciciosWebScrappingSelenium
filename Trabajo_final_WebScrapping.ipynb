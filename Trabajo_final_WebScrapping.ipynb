{
 "cells": [
  {
   "cell_type": "markdown",
   "metadata": {},
   "source": [
    "### Trabajo Final\n",
    "Nombres : Keith\n",
    "Apellidos: Caballero Rodriguez\n",
    "DNI: 12345678\n",
    "Web: \"https://forms.gle/ZxeZ9az3D51JDVqUA\"\n",
    "- Pasos:\n",
    "    - Usando selenium\n",
    "    - Buscar los elementos(por TAG) //div con atributos especificos y enviar sus nombres y apellidos\n",
    "    - Buscar el boton que contenga la palabra Enviar / Send\n",
    "    - Realizar este proceso más de 30 veces en un loop\n",
    "- Entregable: \n",
    "    - Notebook de la solución enviado al correo : k.caballerounmsm@gmail.com\n",
    "\n",
    "Fecha límite de entrega: 10-02-2024 23:59"
   ]
  },
  {
   "cell_type": "code",
   "execution_count": 1,
   "metadata": {},
   "outputs": [],
   "source": [
    "from selenium import webdriver\n",
    "from selenium.webdriver.support.ui import WebDriverWait\n",
    "from selenium.webdriver.support import expected_conditions as EC\n",
    "from selenium.webdriver.chrome.service import Service\n",
    "from selenium.webdriver.common.by import By"
   ]
  },
  {
   "cell_type": "code",
   "execution_count": 2,
   "metadata": {},
   "outputs": [],
   "source": [
    "service_obj = Service(r\"C:\\Programas\\chromedriver-win64\\chromedriver.exe\")"
   ]
  },
  {
   "cell_type": "code",
   "execution_count": 3,
   "metadata": {},
   "outputs": [],
   "source": [
    "driver = webdriver.Chrome(service=service_obj)"
   ]
  },
  {
   "cell_type": "code",
   "execution_count": 30,
   "metadata": {},
   "outputs": [],
   "source": [
    "driver.get(\"https://forms.gle/ZxeZ9az3D51JDVqUA\")"
   ]
  },
  {
   "cell_type": "code",
   "execution_count": 34,
   "metadata": {},
   "outputs": [],
   "source": [
    "driver.quit()"
   ]
  }
 ],
 "metadata": {
  "kernelspec": {
   "display_name": "base",
   "language": "python",
   "name": "python3"
  },
  "language_info": {
   "codemirror_mode": {
    "name": "ipython",
    "version": 3
   },
   "file_extension": ".py",
   "mimetype": "text/x-python",
   "name": "python",
   "nbconvert_exporter": "python",
   "pygments_lexer": "ipython3",
   "version": "3.9.12"
  }
 },
 "nbformat": 4,
 "nbformat_minor": 2
}
