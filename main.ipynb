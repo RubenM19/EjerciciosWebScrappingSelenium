{
 "cells": [
  {
   "cell_type": "code",
   "execution_count": 1,
   "metadata": {},
   "outputs": [],
   "source": [
    "import selenium\n",
    "import time\n",
    "from selenium import webdriver\n",
    "from selenium.webdriver.edge.service import Service  # Import the Service class\n",
    "from selenium.webdriver.common.by import By\n",
    "from selenium.webdriver.support.ui import WebDriverWait\n",
    "from selenium.webdriver.support import expected_conditions as EC\n"
   ]
  },
  {
   "cell_type": "code",
   "execution_count": 2,
   "metadata": {},
   "outputs": [],
   "source": [
    "url = 'https://www.imdb.com/chart/top/'\n",
    "driver_path = r'C:\\Users\\ruben\\Desktop\\SELENIUM\\msedgedriver.exe'  # Adjust path as needed"
   ]
  },
  {
   "cell_type": "code",
   "execution_count": 5,
   "metadata": {},
   "outputs": [],
   "source": [
    "service = Service(driver_path)\n",
    "driver = webdriver.Edge(service=service)  # Use the Service object\n",
    "driver.get(url)\n",
    "driver.maximize_window()"
   ]
  },
  {
   "cell_type": "code",
   "execution_count": 6,
   "metadata": {},
   "outputs": [],
   "source": [
    "title_element = WebDriverWait(driver, 10).until(\n",
    "    EC.presence_of_element_located((By.XPATH, '/html/body/div[2]/main/div/div[3]/section/div/div[2]/div/ul/li[1]/div[2]/div/div/div[1]/a/h3'))\n",
    ")\n",
    "ranking_element = WebDriverWait(driver, 10).until(\n",
    "    EC.presence_of_element_located((By.XPATH, '/html/body/div[2]/main/div/div[3]/section/div/div[2]/div/ul/li[1]/div[2]/div/div/div[1]/a/h3'))\n",
    ")\n",
    "link_movie_element = WebDriverWait(driver, 10).until(\n",
    "    EC.presence_of_element_located((By.XPATH, '/html/body/div[2]/main/div/div[3]/section/div/div[2]/div/ul/li[1]/div[2]/div/div/div[1]/a'))\n",
    ")\n",
    "link_picture_element = WebDriverWait(driver, 10).until(\n",
    "    EC.presence_of_element_located((By.XPATH, '/html/body/div[2]/main/div/div[3]/section/div/div[2]/div/ul/li[1]/div[1]/div/div[2]/img'))\n",
    ")\n",
    "year_element = WebDriverWait(driver, 10).until(\n",
    "    EC.presence_of_element_located((By.XPATH, '/html/body/div[2]/main/div/div[3]/section/div/div[2]/div/ul/li[1]/div[2]/div/div/div[2]/span[1]'))\n",
    ")\n",
    "views_element = WebDriverWait(driver, 10).until(\n",
    "    EC.presence_of_element_located((By.XPATH, '/html/body/div[2]/main/div/div[3]/section/div/div[2]/div/ul/li[1]/div[2]/div/div/span/div/span/span'))\n",
    ")\n",
    "stars_element = WebDriverWait(driver, 10).until(\n",
    "    EC.presence_of_element_located((By.XPATH, '/html/body/div[2]/main/div/div[3]/section/div/div[2]/div/ul/li[1]/div[2]/div/div/span/div/span'))\n",
    ")"
   ]
  },
  {
   "cell_type": "code",
   "execution_count": 7,
   "metadata": {},
   "outputs": [
    {
     "name": "stdout",
     "output_type": "stream",
     "text": [
      "El título de la película es:  Cadena perpetua\n",
      "El puesto del ranking que ocupa es: 1\n",
      "El link del detalle de la película es: https://www.imdb.com/title/tt0111161/?ref_=chttp_t_1\n",
      "El link de la imagen de la película es: https://m.media-amazon.com/images/M/MV5BMTA1MjE0Nzk4MDleQTJeQWpwZ15BbWU4MDA0NjIxMjAx._V1_QL75_UY207_CR6,0,140,207_.jpg\n",
      "El anio es: 1994\n",
      "Cantidad de vistas:  (2,9 M)\n",
      "Estrellas: 9,3\n",
      "\n"
     ]
    }
   ],
   "source": [
    "title = title_element.text[2:]\n",
    "ranking = ranking_element.text[:1]\n",
    "href_movie = link_movie_element.get_attribute(\"href\")\n",
    "href_picture = link_picture_element.get_attribute(\"src\")\n",
    "year = year_element.text\n",
    "views = views_element.text\n",
    "stars = stars_element.text\n",
    "desired_stars = stars.split(\" \")[0]\n",
    "driver.quit()\n",
    "print(\"El título de la película es: \"+title)\n",
    "print(\"El puesto del ranking que ocupa es: \"+ranking) \n",
    "print(\"El link del detalle de la película es: \"+href_movie) \n",
    "print(\"El link de la imagen de la película es: \"+href_picture) \n",
    "print(\"El anio es: \"+year) \n",
    "print(\"Cantidad de vistas: \"+views) \n",
    "print(\"Estrellas: \"+desired_stars) "
   ]
  }
 ],
 "metadata": {
  "kernelspec": {
   "display_name": "Python 3",
   "language": "python",
   "name": "python3"
  },
  "language_info": {
   "codemirror_mode": {
    "name": "ipython",
    "version": 3
   },
   "file_extension": ".py",
   "mimetype": "text/x-python",
   "name": "python",
   "nbconvert_exporter": "python",
   "pygments_lexer": "ipython3",
   "version": "3.10.0"
  }
 },
 "nbformat": 4,
 "nbformat_minor": 2
}
